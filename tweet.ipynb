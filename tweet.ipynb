{
 "cells": [
  {
   "cell_type": "code",
   "execution_count": 1,
   "metadata": {},
   "outputs": [],
   "source": [
    "# import tweepy\n",
    "\n",
    "# # Authenticate using Tweepy\n",
    "# auth = tweepy.OAuth1UserHandler(\n",
    "#     consumer_key= \"laS3zuR8jw9hyRtF0TJMHMwtF\", \n",
    "#     consumer_secret= \"OHTPhJDBAuYYVNTDS6KvksoKhyrHyrvPOItMJ0QoiSyRDNjKcB\",\n",
    "#     access_token=\"1877617110932926470-pgZrOLW5werQRfHIY8w8uJprcNJID8\",\n",
    "#     # access_token=AAAAAAAAAAAAAAAAAAAAAIM7yAEAAAAA3M53WKrw3gcVYKIpjA11yZgcDfE%3DfVnZy0DifqS9FpQ8U1nS24D8Y55y45yv0rjGn2zuyh8OSuzs7T, \n",
    "#     access_token_secret=\"awHiDrEtX5a2ZTvc5WUT9IzIwEccfTKTZLAUA11icvYqr\"\n",
    "# )\n",
    "\n",
    "# api = tweepy.API(auth)\n",
    "# # Define a search query (you can use any keyword or hashtag)\n",
    "# search_query = \"#news\"  # Example: search for news-related tweets\n",
    "\n",
    "# # Fetch tweets related to the search query\n",
    "# tweets = tweepy.Cursor(api.search_tweets, q=search_query, lang=\"en\", tweet_mode=\"extended\").items(10)\n",
    "\n",
    "# # Extract and print tweet headlines (the full text of the tweet)\n",
    "# for tweet in tweets:\n",
    "#     print(f\"Tweet headline: {tweet.full_text}\")\n",
    "#     print(\"-\" * 50)\n",
    "\n",
    "\n",
    "# Use Bearer Token Authentication for public access\n",
    "# bearer_token = \"AAAAAAAAAAAAAAAAAAAAAOs8yAEAAAAAIBoa6zcyBxvq110VBqec6ruxbdk%3Dj74eteVxhFPuIcYUix8lDuLUku15GWrMX2BZYJM4MyNpcfW8Ew\"\n",
    "\n",
    "\n"
   ]
  },
  {
   "cell_type": "code",
   "execution_count": 2,
   "metadata": {},
   "outputs": [
    {
     "name": "stdout",
     "output_type": "stream",
     "text": [
      "Tweet by 1814296081213308928: RT @getrabbitapp: @getrabbitapp makes it easy to buy $TRUMP crypto memecoin in 1 Click 🚀🚀\n",
      "\n",
      "Use Credit card, Apple pay or directly fund with…\n",
      "\n",
      "Tweet by 1642495540209553408: It’s random 💯 Blessings and you are lucky 🍀 to be selected to pay 💰 all your bills and financial support ❤️ “ So Dm me with your cashapp PayPal Apple 🍎 Pay or Venmo ❤️❤️ https://t.co/ghhuFaeqbu\n",
      "\n",
      "Tweet by 1658544362278510599: Gaza rebuild will take 'a lot of time', says UN official *** Let Hamas do it https://t.co/bXnQ3rST0c\n",
      "\n",
      "Tweet by 1462553071213432835: このギターフレーズめっちゃ好きやねん\n",
      "https://t.co/IfcvaNiArn\n",
      "\n",
      "Tweet by 1768581022726455296: RT @shiki_cum: @txtdrimedia Awokwowk itu apple nahan kali, mereka kalau bisa bilang mungkin bilang, di Indo pemerintah gak jelas, banyak ko…\n",
      "\n",
      "Tweet by 2164195941: Zyn’s Online Hype Risks Leading to the Nicotine Pouches’ Downfall - Bloomberg Businessweek https://t.co/O4FQp9oePS\n",
      "\n",
      "Tweet by 1454477700: kung iisa pa uli apple wood sa svt at hindi nila maaagapan yung mga nangyari sa 17rh bulacan, edi hanap uli ng bago!\n",
      "\n",
      "Tweet by 920610300: @sickedsyd @Jayecane Dm me with your cash app or Apple Pay or Venmo or PayPal imma bless you❤️‍🩹\n",
      "\n",
      "Tweet by 1454477700: Ang tip diyan is you don’t patronize event organizers!! Appreciate their strengths and call out their weaknesses. Lalo na kapag borderline abusado at repetitive yung behavior kasi it means hindi sila natuto. pulp and live nation had their lapses and so did apple wood\n",
      "\n",
      "Tweet by 62458674: “I know, just how many tears you hide behind those wistful eyes…” https://t.co/2sw7MzVD2R\n",
      "\n"
     ]
    }
   ],
   "source": [
    "import tweepy\n",
    "import time\n",
    "\n",
    "# Authenticate with Twitter using Bearer Token\n",
    "client = tweepy.Client(bearer_token=\"AAAAAAAAAAAAAAAAAAAAAOs8yAEAAAAAjJ8FuscVj1nKJShpq4JcMC7dDRQ%3DcFDoNA8YyjvpFd7MZm3D1Gm9HBa8OXdB5Wt5UoLr4bXZx2HqTS\")\n",
    "\n",
    "# Search for tweets\n",
    "query = 'apple'  # Specify the query (can be a hashtag, keyword, etc.)\n",
    "max_tweets = 10  # Number of tweets you want to retrieve\n",
    "\n",
    "# Function to fetch tweets with retry mechanism\n",
    "def fetch_tweets_with_retry(client, query, max_tweets, retries=10, backoff_factor=2):\n",
    "    for attempt in range(retries):\n",
    "        try:\n",
    "            tweets = client.search_recent_tweets(query=query, max_results=max_tweets, tweet_fields=['author_id', 'text'])\n",
    "            return tweets\n",
    "        except tweepy.TooManyRequests:\n",
    "            if attempt < retries - 1:\n",
    "                time.sleep(backoff_factor * (2 ** attempt))\n",
    "            else:\n",
    "                raise\n",
    "\n",
    "# Fetch tweets with retry\n",
    "tweets = fetch_tweets_with_retry(client, query, max_tweets)\n",
    "\n",
    "# Print tweets\n",
    "for tweet in tweets.data:\n",
    "    print(f\"Tweet by {tweet.author_id}: {tweet.text}\\n\")\n"
   ]
  },
  {
   "cell_type": "code",
   "execution_count": 3,
   "metadata": {},
   "outputs": [
    {
     "name": "stdout",
     "output_type": "stream",
     "text": [
      "No tweets found for apple.\n"
     ]
    }
   ],
   "source": [
    "import tweepy\n",
    "import time\n",
    "\n",
    "# Authenticate with Twitter using Bearer Token\n",
    "client = tweepy.Client(bearer_token=\"AAAAAAAAAAAAAAAAAAAAAOs8yAEAAAAAjJ8FuscVj1nKJShpq4JcMC7dDRQ%3DcFDoNA8YyjvpFd7MZm3D1Gm9HBa8OXdB5Wt5UoLr4bXZx2HqTS\")\n",
    "\n",
    "# Specify the username of the user whose tweets you want to fetch\n",
    "username = 'apple'  # Replace with the target username\n",
    "max_tweets = 10  # Number of tweets you want to retrieve\n",
    "\n",
    "# Function to fetch tweets from a specific user with retry mechanism\n",
    "def fetch_user_tweets_with_retry(client, username, max_tweets, retries=10, backoff_factor=2):\n",
    "    for attempt in range(retries):\n",
    "        try:\n",
    "            # Get the user’s ID using the username\n",
    "            user = client.get_user(username=username).data\n",
    "            \n",
    "            # Fetch tweets from the user's timeline\n",
    "            tweets = client.get_users_tweets(user.id, max_results=max_tweets, tweet_fields=['author_id', 'text'])\n",
    "            return tweets\n",
    "        except tweepy.TooManyRequests:\n",
    "            if attempt < retries - 1:\n",
    "                time.sleep(backoff_factor * (2 ** attempt))  # Exponential backoff\n",
    "            else:\n",
    "                raise\n",
    "\n",
    "# Fetch tweets from the specified user with retry\n",
    "tweets = fetch_user_tweets_with_retry(client, username, max_tweets)\n",
    "\n",
    "# Print tweets\n",
    "if tweets.data:\n",
    "    for tweet in tweets.data:\n",
    "        print(f\"Tweet by {tweet.author_id}: {tweet.text}\\n\")\n",
    "else:\n",
    "    print(f\"No tweets found for {username}.\")\n"
   ]
  }
 ],
 "metadata": {
  "kernelspec": {
   "display_name": "ptenv",
   "language": "python",
   "name": "python3"
  },
  "language_info": {
   "codemirror_mode": {
    "name": "ipython",
    "version": 3
   },
   "file_extension": ".py",
   "mimetype": "text/x-python",
   "name": "python",
   "nbconvert_exporter": "python",
   "pygments_lexer": "ipython3",
   "version": "3.12.3"
  }
 },
 "nbformat": 4,
 "nbformat_minor": 2
}
